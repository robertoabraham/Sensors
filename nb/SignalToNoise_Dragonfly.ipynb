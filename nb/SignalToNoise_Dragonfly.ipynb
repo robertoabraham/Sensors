{
 "cells": [
  {
   "cell_type": "markdown",
   "metadata": {},
   "source": [
    "## Signal-to-noise calculations\n",
    "\n",
    "**Author:** Deb Lokhorst (NRC Herzberg Astronomy & Astrophysics Research Centre)<br>\n",
    "**Date:** 2024-02-16\n",
    "\n",
    "### Some background\n",
    "\n",
    "The SNR is calculated following the equation (see, e.g., pg 407 of \"Spectroscopic Instrumentation\" by Eversberg and Vollmann): \n",
    "\n",
    "$SNR = \\frac{I t}{\\sqrt{I t + B t + D t + R^2}}$, \n",
    "\n",
    "where I is the signal over some number of pixels, B is the sky background over some number of pixels, D is the dark current over some number of pixels and R is the readout noise of the detector.  The exposure time, t, is usually given in seconds."
   ]
  },
  {
   "cell_type": "code",
   "execution_count": 1,
   "metadata": {},
   "outputs": [],
   "source": [
    "%matplotlib inline\n",
    "\n",
    "import numpy as np\n",
    "import matplotlib.pyplot as plt\n",
    "from astropy import constants as const\n",
    "from astropy import units as u\n",
    "from astropy.io import fits\n",
    "import math"
   ]
  },
  {
   "cell_type": "code",
   "execution_count": 2,
   "metadata": {},
   "outputs": [],
   "source": [
    "class DragonflySystem(object):\n",
    "\n",
    "    \"\"\"This class represented the noise calculations \n",
    "    for the Dragonfly Array.\"\"\"\n",
    "\n",
    "    def __init__(self, number_of_lenses = 48.,oldcam=False):\n",
    "        self.number_of_lenses = number_of_lenses\n",
    "        self.area_lens = self.calculate_lens_area()\n",
    "        self.tau_l = 0.85  # transmittance of the Dragonfly lens\n",
    "        self.tau_f = 1.    # transmittance of the Halpha filter -- assumed for now\n",
    "        if oldcam:\n",
    "            self.QE = 0.48 * u.electron / u.photon\n",
    "            self.ro_noise = 10.  # read noise (electrons)\n",
    "            self.dark_curr = 0.02 *u.photon/u.second    # dark current (electrons / s / pix)\n",
    "            self.pix_size = 2.8 # arcsec / pix\n",
    "        else:\n",
    "            self.QE = 0.75 * u.electron / u.photon\n",
    "            self.ro_noise = 4.5  # read noise (electrons)\n",
    "            self.dark_curr = 0.025 *u.electron/u.second    # dark current (electrons / s / pix)\n",
    "            self.pix_size = 2.45 # arcsec / pix\n",
    "\n",
    "        self.ang_pix_size = (self.pix_size * (1./206265.))**2 * u.rad**2\n",
    "        self.ro_squared = self.ro_noise**2 * u.electron\n",
    "\n",
    "    def calculate_lens_area(self):\n",
    "        return np.pi*(14.3/2)**2 * self.number_of_lenses * u.cm**2\n",
    "    \n",
    "    def report(self):\n",
    "        print('Number of lenses (lens area): %s (%s)'%\\\n",
    "              (self.number_of_lenses,self.area_lens))\n",
    "        print('Quantum Efficiency: %s'%self.QE)\n",
    "        print('Readout Noise (RO squared): %s (%s)'%\\\n",
    "              (self.ro_noise,self.ro_squared))\n",
    "        print('Dark Current: %s'%self.dark_curr)\n",
    "        print('Pixel Size: %s'%self.pix_size)\n",
    "\n",
    "    \n",
    "    def calculate_signal_to_noise(self,SB_ph,B,time,numpixel=1,explength=30.*(60.*u.second)):\n",
    "        print('Calculating SNR for SB of %s'%SB_ph)\n",
    "\n",
    "        numexp=1\n",
    "        if isinstance(time.value, (np.ndarray)):\n",
    "            numexp = np.array([math.ceil(thistime/explength) for thistime in time])\n",
    "        else:\n",
    "            numexp = math.ceil(time/explength) # round up the number of exposures\n",
    "        print('Total exposure time of %s carried out in %s exposure(s).'%(time,numexp))\n",
    "            \n",
    "        \n",
    "        S = SB_ph * self.QE * self.tau_l * self.tau_f \n",
    "        S *= self.area_lens * self.ang_pix_size\n",
    "        signal = S*time*numpixel\n",
    "\n",
    "        B_tot = B * self.QE * self.tau_l * self.tau_f \n",
    "        B_tot *= self.area_lens.to(u.m**2) * self.ang_pix_size.to(u.arcsec**2)\n",
    "\n",
    "        print('total S: %s'%signal)\n",
    "        print('total B (sky): %s'%(B_tot*time*numpixel))\n",
    "        print('\\t square root: %s'%(np.sqrt(B_tot*time*numpixel)))\n",
    "        print('total D (dark): %s'%(self.dark_curr*time*numpixel*self.number_of_lenses))\n",
    "        print('\\t square root: %s'%(np.sqrt(self.dark_curr*time*numpixel*self.number_of_lenses)))\n",
    "        print('total R (readout): %s'%(self.ro_noise*numpixel*self.number_of_lenses*numexp))\n",
    "        #sigma = np.sqrt(signal + B_tot*time*numpixel + D*time*numpixel + R_squared*numpixel)\n",
    "\n",
    "        sigma = np.sqrt(signal + B_tot*time*numpixel + self.dark_curr*time*numpixel*self.number_of_lenses + \n",
    "                        self.ro_noise*numpixel*self.number_of_lenses*numexp*u.electron)\n",
    "\n",
    "        SNR = signal/sigma\n",
    "\n",
    "        return SNR"
   ]
  },
  {
   "cell_type": "code",
   "execution_count": 4,
   "metadata": {},
   "outputs": [],
   "source": [
    "# plt.style.use('seaborn-dark-palette')\n",
    "plt.style.use('ggplot')\n",
    "font = {'family' : 'Arial',\n",
    "        'weight' : 'normal',\n",
    "        'size'   : 16}\n",
    "import matplotlib\n",
    "matplotlib.rc('font', **font)\n",
    "\n",
    "TINY_SIZE = 14\n",
    "SMALL_SIZE = 16\n",
    "MEDIUM_SIZE = 16\n",
    "BIGGER_SIZE = 18\n",
    "\n",
    "plt.rc('font', size=SMALL_SIZE)          # controls default text sizes\n",
    "plt.rc('axes', titlesize=SMALL_SIZE)     # fontsize of the axes title\n",
    "plt.rc('axes', labelsize=MEDIUM_SIZE)    # fontsize of the x and y labels\n",
    "plt.rc('xtick', labelsize=SMALL_SIZE)    # fontsize of the tick labels\n",
    "plt.rc('ytick', labelsize=SMALL_SIZE)    # fontsize of the tick labels\n",
    "plt.rc('legend', fontsize=TINY_SIZE)     # legend fontsize\n",
    "plt.rc('figure', titlesize=BIGGER_SIZE)  # fontsize of the figure title\n"
   ]
  },
  {
   "cell_type": "markdown",
   "metadata": {},
   "source": [
    "#### from SkyBackground_FilterWidthComparison  (In FilterTilterDesign and HalphaScripts):\n",
    "\n",
    "We need to include the sky background as a source of noise in our calculations. This value was calculated from the Gemini sky background spectrum."
   ]
  },
  {
   "cell_type": "code",
   "execution_count": 5,
   "metadata": {},
   "outputs": [],
   "source": [
    "# B_10nm_G_1  = 4.91488*u.photon/u.second/u.arcsec**2/u.m**2  # already times the filter width\n",
    "# B_3nm_G_1  = 1.52495*u.photon/u.second/u.arcsec**2/u.m**2  # already times the filter width\n",
    "B_08nm_G_1 = 0.383995*u.photon/u.second/u.arcsec**2/u.m**2  # already times the filter width"
   ]
  },
  {
   "cell_type": "markdown",
   "metadata": {},
   "source": [
    "Declare the Dragonfly System and calculate SNR for a specific exposure time"
   ]
  },
  {
   "cell_type": "code",
   "execution_count": 6,
   "metadata": {},
   "outputs": [
    {
     "name": "stdout",
     "output_type": "stream",
     "text": [
      "Calculating SNR for SB of 1000.0 ph / (s cm2 rad2)\n",
      "Total exposure time of 216000.0 s carried out in 120 exposure(s).\n",
      "total S: 191030.25601612046 electron\n",
      "total B (sky): 312088663.6112715 electron\n",
      "\t square root: 17666.03134864397 electron(1/2)\n",
      "total D (dark): 330612244.89795923 electron\n",
      "\t square root: 18182.745801939796 electron(1/2)\n",
      "total R (readout): 33061224.48979592\n",
      "7.347572082218211 electron(1/2)\n"
     ]
    }
   ],
   "source": [
    "dragonfly = DragonflySystem()\n",
    "\n",
    "# Using an exposure time of 60 hours:\n",
    "time = 60.*60.*60. * u.second\n",
    "\n",
    "# This is a typical SB of features in the cosmic web\n",
    "SB_ph_three = 10**3. * u.photon / (u.cm**2 * u.rad**2 * u.second)\n",
    "\n",
    "# Assuming that we will be binning over some pixels to increase the SNR\n",
    "pix_size = 2.8 \n",
    "numpixel = 100.0 * 100.0/(pix_size**2)   # 100-arcsec-a-side pixels\n",
    "\n",
    "# Run the calculation\n",
    "SNR = dragonfly.calculate_signal_to_noise(SB_ph_three,B_08nm_G_1,time,numpixel=numpixel) #,explength=time)\n",
    "print (SNR)\n"
   ]
  },
  {
   "cell_type": "code",
   "execution_count": 10,
   "metadata": {},
   "outputs": [
    {
     "name": "stdout",
     "output_type": "stream",
     "text": [
      "Calculating SNR for SB of 1000.0 ph / (s cm2 rad2)\n",
      "Total exposure time of [1.00000e+00 6.10000e+01 1.21000e+02 ... 1.43821e+05 1.43881e+05\n",
      " 1.43941e+05] s carried out in [ 1  1  1 ... 80 80 80] exposure(s).\n",
      "total S: [8.84399333e-01 5.39483593e+01 1.07012319e+02 ... 1.27195197e+05\n",
      " 1.27248260e+05 1.27301324e+05] electron\n",
      "total B (sky): [1.44485492e+03 8.81361504e+04 1.74827446e+05 ... 2.07800480e+08\n",
      " 2.07887171e+08 2.07973863e+08] electron\n",
      "\t square root: [   38.01124734   296.8773322    418.12372071 ... 14415.28633232\n",
      " 14418.2929412  14421.29892325] electron(1/2)\n",
      "total D (dark): [1.53061224e+03 9.33673469e+04 1.85204082e+05 ... 2.20134184e+08\n",
      " 2.20226020e+08 2.20317857e+08] electron\n",
      "\t square root: [   39.12303982   305.56070909   430.35343804 ... 14836.91961539\n",
      " 14840.01416469 14843.10806883] electron(1/2)\n",
      "total R (readout): [  275510.20408163   275510.20408163   275510.20408163 ...\n",
      " 22040816.32653061 22040816.32653061 22040816.32653061]\n"
     ]
    },
    {
     "data": {
      "text/plain": [
       "<matplotlib.legend.Legend at 0x1630f58d700>"
      ]
     },
     "execution_count": 10,
     "metadata": {},
     "output_type": "execute_result"
    },
    {
     "data": {
      "image/png": "[encoded data removed]",
      "text/plain": [
       "<Figure size 640x480 with 1 Axes>"
      ]
     },
     "metadata": {},
     "output_type": "display_data"
    }
   ],
   "source": [
    "def plotSNR(SB_ph,B,time,numpixel=1,refSNR=5.0,linestyle='-',label='',colour='black'):\n",
    "    # SNR = calcSNR(SB_ph,B,time,explength=10.*(60.*u.second))\n",
    "    SNR = dragonfly.calculate_signal_to_noise(SB_ph,B,time,numpixel=numpixel) #,explength=time)\n",
    "    ind = (np.abs(SNR.value-refSNR)).argmin()\n",
    "    plt.plot(time/3600.,SNR,label=label+' (SNR=5 at %.1f hr)'%(time[ind]/3600.).value,\\\n",
    "             linewidth=3,linestyle=linestyle,color=colour)\n",
    "    return SNR,ind,time[ind]/3600.\n",
    "\n",
    "# Array of times out to 40 hours\n",
    "time = np.arange(1,60.*60.*40.,60.)* u.second\n",
    "\n",
    "# Again binning the number of pixels to increase the SNR\n",
    "pix_size = 2.8 \n",
    "numpixel = 100.0 * 100.0/(pix_size**2)   # 100-arcsec-a-side pixels\n",
    "\n",
    "# Calculating SNR for the array of time values, using same signal and sky background as above\n",
    "SNR,ind,total = plotSNR(SB_ph_three,B_08nm_G_1,time,numpixel=numpixel)\n",
    "\n",
    "plt.xlabel('Time (hours)')\n",
    "plt.ylabel('SNR')\n",
    "plt.legend(loc=4,fancybox=True, framealpha=0.5)\n"
   ]
  },
  {
   "cell_type": "markdown",
   "metadata": {},
   "source": [
    "#### Calculate the flux from a point source with specific magnitude - if you want to use different sources to calculate the SNR\n",
    "\n",
    "\n",
    "Conversion between photon/pixel and mag arcsec\n",
    "$^{-2}$ (from Abraham et al. 2014):\n",
    "\n",
    ">The surface brightness in equation (4), S, can be cast into units of\n",
    "magnitude per arcsecsecond squared (mag arcsec$^{-2}$) by noting that\n",
    "$S = F \\times 10^{-0.4\\mu} $\n",
    ", where F is the flux zero point for the\n",
    "filter and $\\mu$ is the mean surface brightness in magnitude units in the bandpass.\n",
    "\n",
    ">In the AB system, the zeroth magnitude calibrator is defined in frequency space as 3631 Jy in all bands, so after conversion back to wavelength space, \n",
    "$F = (3631 Jy/arcsec^{2}) \\times c / \\lambda^2$\n",
    ",where $\\lambda$ is the effective wavelength of the filter.\n",
    "\n",
    "> https://irsa.ipac.caltech.edu/data/SPITZER/docs/dataanalysistools/tools/pet/magtojy/: <br>\n",
    "> Johnson V = 21.5, Zeropoint: 3781, Effective wavelength: 0.55 microns: 0.0095mJy\n",
    "\n",
    "If assume that the point source only goes on one pixel, then a lot of this simplifies.<br>\n",
    "S = tot<br>\n",
    "S = (tot/numpixels) * numpixels\n",
    "\n",
    "If source is spread out then will be harder to detect (more electronic noise). Assume the m_v is the literal point source limit, so assume all on one pixel."
   ]
  },
  {
   "cell_type": "code",
   "execution_count": 8,
   "metadata": {},
   "outputs": [],
   "source": [
    "def getflux_ph(flux_cgs,photon_wavelength=656.3e-9*u.m):\n",
    "    return flux_cgs * photon_wavelength/(const.h.to('erg s') * const.c.to('m/s')) * u.photon\n",
    "\n",
    "### from https://irsa.ipac.caltech.edu/data/SPITZER/docs/dataanalysistools/tools/pet/magtojy/ for source of V = 17.5 mag\n",
    "\n",
    "### 17.5 mag in V band to use as estimate for needed exp lengths\n",
    "flux_cgs = 3.75e-16 * u.erg / u.cm**2 / u.s / u.angstrom # erg/s/cm^2/Ang # V=17.5 mag\n",
    "photon_wavelength = 550e-9*u.m # for V band\n",
    "bw_nbfilters = 0.8 #nm\n",
    "\n",
    "flux_ph = getflux_ph(flux_cgs,photon_wavelength=photon_wavelength)\n",
    "flux_ph_tot = flux_ph*bw_nbfilters*10 * u.angstrom\n"
   ]
  },
  {
   "cell_type": "code",
   "execution_count": null,
   "metadata": {},
   "outputs": [],
   "source": []
  }
 ],
 "metadata": {
  "kernelspec": {
   "display_name": "Python 3 (ipykernel)",
   "language": "python",
   "name": "python3"
  },
  "language_info": {
   "codemirror_mode": {
    "name": "ipython",
    "version": 3
   },
   "file_extension": ".py",
   "mimetype": "text/x-python",
   "name": "python",
   "nbconvert_exporter": "python",
   "pygments_lexer": "ipython3",
   "version": "3.12.2"
  }
 },
 "nbformat": 4,
 "nbformat_minor": 4
}
